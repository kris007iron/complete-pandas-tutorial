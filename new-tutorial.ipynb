{
 "cells": [
  {
   "cell_type": "code",
   "execution_count": 26,
   "id": "initial_id",
   "metadata": {
    "collapsed": true,
    "ExecuteTime": {
     "end_time": "2025-07-28T18:32:20.497580900Z",
     "start_time": "2025-07-28T18:32:20.496375100Z"
    }
   },
   "outputs": [],
   "source": [
    "import pandas as pd\n",
    "\n",
    "df = pd.DataFrame([[1,2,3],[4,5,6],[7,8,9]], columns= [\"A\",\"B\",\"C\"])"
   ]
  },
  {
   "cell_type": "code",
   "outputs": [
    {
     "data": {
      "text/plain": "         A    B    C\ncount  3.0  3.0  3.0\nmean   4.0  5.0  6.0\nstd    3.0  3.0  3.0\nmin    1.0  2.0  3.0\n25%    2.5  3.5  4.5\n50%    4.0  5.0  6.0\n75%    5.5  6.5  7.5\nmax    7.0  8.0  9.0",
      "text/html": "<div>\n<style scoped>\n    .dataframe tbody tr th:only-of-type {\n        vertical-align: middle;\n    }\n\n    .dataframe tbody tr th {\n        vertical-align: top;\n    }\n\n    .dataframe thead th {\n        text-align: right;\n    }\n</style>\n<table border=\"1\" class=\"dataframe\">\n  <thead>\n    <tr style=\"text-align: right;\">\n      <th></th>\n      <th>A</th>\n      <th>B</th>\n      <th>C</th>\n    </tr>\n  </thead>\n  <tbody>\n    <tr>\n      <th>count</th>\n      <td>3.0</td>\n      <td>3.0</td>\n      <td>3.0</td>\n    </tr>\n    <tr>\n      <th>mean</th>\n      <td>4.0</td>\n      <td>5.0</td>\n      <td>6.0</td>\n    </tr>\n    <tr>\n      <th>std</th>\n      <td>3.0</td>\n      <td>3.0</td>\n      <td>3.0</td>\n    </tr>\n    <tr>\n      <th>min</th>\n      <td>1.0</td>\n      <td>2.0</td>\n      <td>3.0</td>\n    </tr>\n    <tr>\n      <th>25%</th>\n      <td>2.5</td>\n      <td>3.5</td>\n      <td>4.5</td>\n    </tr>\n    <tr>\n      <th>50%</th>\n      <td>4.0</td>\n      <td>5.0</td>\n      <td>6.0</td>\n    </tr>\n    <tr>\n      <th>75%</th>\n      <td>5.5</td>\n      <td>6.5</td>\n      <td>7.5</td>\n    </tr>\n    <tr>\n      <th>max</th>\n      <td>7.0</td>\n      <td>8.0</td>\n      <td>9.0</td>\n    </tr>\n  </tbody>\n</table>\n</div>"
     },
     "execution_count": 27,
     "metadata": {},
     "output_type": "execute_result"
    }
   ],
   "source": [
    "df.describe()"
   ],
   "metadata": {
    "collapsed": false,
    "ExecuteTime": {
     "end_time": "2025-07-28T18:32:20.507730200Z",
     "start_time": "2025-07-28T18:32:20.498581300Z"
    }
   },
   "id": "2cc6fd641ae26aca",
   "execution_count": 27
  },
  {
   "cell_type": "code",
   "outputs": [
    {
     "data": {
      "text/plain": "       Units Sold\ncount   14.000000\nmean    32.857143\nstd      9.346798\nmin     15.000000\n25%     26.250000\n50%     35.000000\n75%     38.750000\nmax     45.000000",
      "text/html": "<div>\n<style scoped>\n    .dataframe tbody tr th:only-of-type {\n        vertical-align: middle;\n    }\n\n    .dataframe tbody tr th {\n        vertical-align: top;\n    }\n\n    .dataframe thead th {\n        text-align: right;\n    }\n</style>\n<table border=\"1\" class=\"dataframe\">\n  <thead>\n    <tr style=\"text-align: right;\">\n      <th></th>\n      <th>Units Sold</th>\n    </tr>\n  </thead>\n  <tbody>\n    <tr>\n      <th>count</th>\n      <td>14.000000</td>\n    </tr>\n    <tr>\n      <th>mean</th>\n      <td>32.857143</td>\n    </tr>\n    <tr>\n      <th>std</th>\n      <td>9.346798</td>\n    </tr>\n    <tr>\n      <th>min</th>\n      <td>15.000000</td>\n    </tr>\n    <tr>\n      <th>25%</th>\n      <td>26.250000</td>\n    </tr>\n    <tr>\n      <th>50%</th>\n      <td>35.000000</td>\n    </tr>\n    <tr>\n      <th>75%</th>\n      <td>38.750000</td>\n    </tr>\n    <tr>\n      <th>max</th>\n      <td>45.000000</td>\n    </tr>\n  </tbody>\n</table>\n</div>"
     },
     "execution_count": 28,
     "metadata": {},
     "output_type": "execute_result"
    }
   ],
   "source": [
    "coffe = pd.read_csv(\"./warmup-data/coffee.csv\")\n",
    "coffe.describe()"
   ],
   "metadata": {
    "collapsed": false,
    "ExecuteTime": {
     "end_time": "2025-07-28T18:32:20.511920800Z",
     "start_time": "2025-07-28T18:32:20.506728700Z"
    }
   },
   "id": "4a76014aa96a04d7",
   "execution_count": 28
  },
  {
   "cell_type": "code",
   "outputs": [],
   "source": [
    "results_parquet = pd.read_parquet(\"./data/results.parquet\")"
   ],
   "metadata": {
    "collapsed": false,
    "ExecuteTime": {
     "end_time": "2025-07-28T18:32:20.618279600Z",
     "start_time": "2025-07-28T18:32:20.511920800Z"
    }
   },
   "id": "db5c6e435a05c462",
   "execution_count": 29
  },
  {
   "cell_type": "code",
   "outputs": [],
   "source": [
    "results_csv = pd.read_csv(\"./data/results.csv\")"
   ],
   "metadata": {
    "collapsed": false,
    "ExecuteTime": {
     "end_time": "2025-07-28T18:32:20.905478600Z",
     "start_time": "2025-07-28T18:32:20.604280500Z"
    }
   },
   "id": "6d219018b86eaf8c",
   "execution_count": 30
  },
  {
   "cell_type": "code",
   "outputs": [
    {
     "data": {
      "text/plain": "     year    type discipline                     event                     as  \\\n0  1912.0  Summer     Tennis    Singles, Men (Olympic)  Jean-François Blanchy   \n1  1912.0  Summer     Tennis    Doubles, Men (Olympic)  Jean-François Blanchy   \n2  1920.0  Summer     Tennis    Singles, Men (Olympic)  Jean-François Blanchy   \n3  1920.0  Summer     Tennis  Doubles, Mixed (Olympic)  Jean-François Blanchy   \n4  1920.0  Summer     Tennis    Doubles, Men (Olympic)  Jean-François Blanchy   \n\n   athlete_id  noc             team  place   tied medal  \n0           1  FRA             None   17.0   True  None  \n1           1  FRA   Jean Montariol    NaN  False  None  \n2           1  FRA             None   32.0   True  None  \n3           1  FRA  Jeanne Vaussard    8.0   True  None  \n4           1  FRA  Jacques Brugnon    4.0  False  None  ",
      "text/html": "<div>\n<style scoped>\n    .dataframe tbody tr th:only-of-type {\n        vertical-align: middle;\n    }\n\n    .dataframe tbody tr th {\n        vertical-align: top;\n    }\n\n    .dataframe thead th {\n        text-align: right;\n    }\n</style>\n<table border=\"1\" class=\"dataframe\">\n  <thead>\n    <tr style=\"text-align: right;\">\n      <th></th>\n      <th>year</th>\n      <th>type</th>\n      <th>discipline</th>\n      <th>event</th>\n      <th>as</th>\n      <th>athlete_id</th>\n      <th>noc</th>\n      <th>team</th>\n      <th>place</th>\n      <th>tied</th>\n      <th>medal</th>\n    </tr>\n  </thead>\n  <tbody>\n    <tr>\n      <th>0</th>\n      <td>1912.0</td>\n      <td>Summer</td>\n      <td>Tennis</td>\n      <td>Singles, Men (Olympic)</td>\n      <td>Jean-François Blanchy</td>\n      <td>1</td>\n      <td>FRA</td>\n      <td>None</td>\n      <td>17.0</td>\n      <td>True</td>\n      <td>None</td>\n    </tr>\n    <tr>\n      <th>1</th>\n      <td>1912.0</td>\n      <td>Summer</td>\n      <td>Tennis</td>\n      <td>Doubles, Men (Olympic)</td>\n      <td>Jean-François Blanchy</td>\n      <td>1</td>\n      <td>FRA</td>\n      <td>Jean Montariol</td>\n      <td>NaN</td>\n      <td>False</td>\n      <td>None</td>\n    </tr>\n    <tr>\n      <th>2</th>\n      <td>1920.0</td>\n      <td>Summer</td>\n      <td>Tennis</td>\n      <td>Singles, Men (Olympic)</td>\n      <td>Jean-François Blanchy</td>\n      <td>1</td>\n      <td>FRA</td>\n      <td>None</td>\n      <td>32.0</td>\n      <td>True</td>\n      <td>None</td>\n    </tr>\n    <tr>\n      <th>3</th>\n      <td>1920.0</td>\n      <td>Summer</td>\n      <td>Tennis</td>\n      <td>Doubles, Mixed (Olympic)</td>\n      <td>Jean-François Blanchy</td>\n      <td>1</td>\n      <td>FRA</td>\n      <td>Jeanne Vaussard</td>\n      <td>8.0</td>\n      <td>True</td>\n      <td>None</td>\n    </tr>\n    <tr>\n      <th>4</th>\n      <td>1920.0</td>\n      <td>Summer</td>\n      <td>Tennis</td>\n      <td>Doubles, Men (Olympic)</td>\n      <td>Jean-François Blanchy</td>\n      <td>1</td>\n      <td>FRA</td>\n      <td>Jacques Brugnon</td>\n      <td>4.0</td>\n      <td>False</td>\n      <td>None</td>\n    </tr>\n  </tbody>\n</table>\n</div>"
     },
     "execution_count": 31,
     "metadata": {},
     "output_type": "execute_result"
    }
   ],
   "source": [
    "results_parquet.head()"
   ],
   "metadata": {
    "collapsed": false,
    "ExecuteTime": {
     "end_time": "2025-07-28T18:32:20.913235500Z",
     "start_time": "2025-07-28T18:32:20.905478600Z"
    }
   },
   "id": "41ea77618241bdbd",
   "execution_count": 31
  },
  {
   "cell_type": "code",
   "outputs": [
    {
     "data": {
      "text/plain": "     year    type discipline                     event                     as  \\\n0  1912.0  Summer     Tennis    Singles, Men (Olympic)  Jean-François Blanchy   \n1  1912.0  Summer     Tennis    Doubles, Men (Olympic)  Jean-François Blanchy   \n2  1920.0  Summer     Tennis    Singles, Men (Olympic)  Jean-François Blanchy   \n3  1920.0  Summer     Tennis  Doubles, Mixed (Olympic)  Jean-François Blanchy   \n4  1920.0  Summer     Tennis    Doubles, Men (Olympic)  Jean-François Blanchy   \n\n   athlete_id  noc             team  place   tied medal  \n0           1  FRA              NaN   17.0   True   NaN  \n1           1  FRA   Jean Montariol    NaN  False   NaN  \n2           1  FRA              NaN   32.0   True   NaN  \n3           1  FRA  Jeanne Vaussard    8.0   True   NaN  \n4           1  FRA  Jacques Brugnon    4.0  False   NaN  ",
      "text/html": "<div>\n<style scoped>\n    .dataframe tbody tr th:only-of-type {\n        vertical-align: middle;\n    }\n\n    .dataframe tbody tr th {\n        vertical-align: top;\n    }\n\n    .dataframe thead th {\n        text-align: right;\n    }\n</style>\n<table border=\"1\" class=\"dataframe\">\n  <thead>\n    <tr style=\"text-align: right;\">\n      <th></th>\n      <th>year</th>\n      <th>type</th>\n      <th>discipline</th>\n      <th>event</th>\n      <th>as</th>\n      <th>athlete_id</th>\n      <th>noc</th>\n      <th>team</th>\n      <th>place</th>\n      <th>tied</th>\n      <th>medal</th>\n    </tr>\n  </thead>\n  <tbody>\n    <tr>\n      <th>0</th>\n      <td>1912.0</td>\n      <td>Summer</td>\n      <td>Tennis</td>\n      <td>Singles, Men (Olympic)</td>\n      <td>Jean-François Blanchy</td>\n      <td>1</td>\n      <td>FRA</td>\n      <td>NaN</td>\n      <td>17.0</td>\n      <td>True</td>\n      <td>NaN</td>\n    </tr>\n    <tr>\n      <th>1</th>\n      <td>1912.0</td>\n      <td>Summer</td>\n      <td>Tennis</td>\n      <td>Doubles, Men (Olympic)</td>\n      <td>Jean-François Blanchy</td>\n      <td>1</td>\n      <td>FRA</td>\n      <td>Jean Montariol</td>\n      <td>NaN</td>\n      <td>False</td>\n      <td>NaN</td>\n    </tr>\n    <tr>\n      <th>2</th>\n      <td>1920.0</td>\n      <td>Summer</td>\n      <td>Tennis</td>\n      <td>Singles, Men (Olympic)</td>\n      <td>Jean-François Blanchy</td>\n      <td>1</td>\n      <td>FRA</td>\n      <td>NaN</td>\n      <td>32.0</td>\n      <td>True</td>\n      <td>NaN</td>\n    </tr>\n    <tr>\n      <th>3</th>\n      <td>1920.0</td>\n      <td>Summer</td>\n      <td>Tennis</td>\n      <td>Doubles, Mixed (Olympic)</td>\n      <td>Jean-François Blanchy</td>\n      <td>1</td>\n      <td>FRA</td>\n      <td>Jeanne Vaussard</td>\n      <td>8.0</td>\n      <td>True</td>\n      <td>NaN</td>\n    </tr>\n    <tr>\n      <th>4</th>\n      <td>1920.0</td>\n      <td>Summer</td>\n      <td>Tennis</td>\n      <td>Doubles, Men (Olympic)</td>\n      <td>Jean-François Blanchy</td>\n      <td>1</td>\n      <td>FRA</td>\n      <td>Jacques Brugnon</td>\n      <td>4.0</td>\n      <td>False</td>\n      <td>NaN</td>\n    </tr>\n  </tbody>\n</table>\n</div>"
     },
     "execution_count": 32,
     "metadata": {},
     "output_type": "execute_result"
    }
   ],
   "source": [
    "results_csv.head()"
   ],
   "metadata": {
    "collapsed": false,
    "ExecuteTime": {
     "end_time": "2025-07-28T18:32:20.921154100Z",
     "start_time": "2025-07-28T18:32:20.912234100Z"
    }
   },
   "id": "283d4a69103eb28e",
   "execution_count": 32
  },
  {
   "cell_type": "code",
   "outputs": [],
   "source": [
    "results_xlsx = pd.read_excel(\"./data/olympics-data.xlsx\", sheet_name=\"results\")"
   ],
   "metadata": {
    "collapsed": false,
    "ExecuteTime": {
     "end_time": "2025-07-28T18:32:40.088601900Z",
     "start_time": "2025-07-28T18:32:20.920152300Z"
    }
   },
   "id": "7a51c92eed6ad329",
   "execution_count": 33
  },
  {
   "cell_type": "code",
   "outputs": [
    {
     "data": {
      "text/plain": "     year    type discipline                     event                     as  \\\n0  1912.0  Summer     Tennis    Singles, Men (Olympic)  Jean-François Blanchy   \n1  1912.0  Summer     Tennis    Doubles, Men (Olympic)  Jean-François Blanchy   \n2  1920.0  Summer     Tennis    Singles, Men (Olympic)  Jean-François Blanchy   \n3  1920.0  Summer     Tennis  Doubles, Mixed (Olympic)  Jean-François Blanchy   \n4  1920.0  Summer     Tennis    Doubles, Men (Olympic)  Jean-François Blanchy   \n\n   athlete_id  noc             team  place   tied medal  \n0           1  FRA              NaN   17.0   True   NaN  \n1           1  FRA   Jean Montariol    NaN  False   NaN  \n2           1  FRA              NaN   32.0   True   NaN  \n3           1  FRA  Jeanne Vaussard    8.0   True   NaN  \n4           1  FRA  Jacques Brugnon    4.0  False   NaN  ",
      "text/html": "<div>\n<style scoped>\n    .dataframe tbody tr th:only-of-type {\n        vertical-align: middle;\n    }\n\n    .dataframe tbody tr th {\n        vertical-align: top;\n    }\n\n    .dataframe thead th {\n        text-align: right;\n    }\n</style>\n<table border=\"1\" class=\"dataframe\">\n  <thead>\n    <tr style=\"text-align: right;\">\n      <th></th>\n      <th>year</th>\n      <th>type</th>\n      <th>discipline</th>\n      <th>event</th>\n      <th>as</th>\n      <th>athlete_id</th>\n      <th>noc</th>\n      <th>team</th>\n      <th>place</th>\n      <th>tied</th>\n      <th>medal</th>\n    </tr>\n  </thead>\n  <tbody>\n    <tr>\n      <th>0</th>\n      <td>1912.0</td>\n      <td>Summer</td>\n      <td>Tennis</td>\n      <td>Singles, Men (Olympic)</td>\n      <td>Jean-François Blanchy</td>\n      <td>1</td>\n      <td>FRA</td>\n      <td>NaN</td>\n      <td>17.0</td>\n      <td>True</td>\n      <td>NaN</td>\n    </tr>\n    <tr>\n      <th>1</th>\n      <td>1912.0</td>\n      <td>Summer</td>\n      <td>Tennis</td>\n      <td>Doubles, Men (Olympic)</td>\n      <td>Jean-François Blanchy</td>\n      <td>1</td>\n      <td>FRA</td>\n      <td>Jean Montariol</td>\n      <td>NaN</td>\n      <td>False</td>\n      <td>NaN</td>\n    </tr>\n    <tr>\n      <th>2</th>\n      <td>1920.0</td>\n      <td>Summer</td>\n      <td>Tennis</td>\n      <td>Singles, Men (Olympic)</td>\n      <td>Jean-François Blanchy</td>\n      <td>1</td>\n      <td>FRA</td>\n      <td>NaN</td>\n      <td>32.0</td>\n      <td>True</td>\n      <td>NaN</td>\n    </tr>\n    <tr>\n      <th>3</th>\n      <td>1920.0</td>\n      <td>Summer</td>\n      <td>Tennis</td>\n      <td>Doubles, Mixed (Olympic)</td>\n      <td>Jean-François Blanchy</td>\n      <td>1</td>\n      <td>FRA</td>\n      <td>Jeanne Vaussard</td>\n      <td>8.0</td>\n      <td>True</td>\n      <td>NaN</td>\n    </tr>\n    <tr>\n      <th>4</th>\n      <td>1920.0</td>\n      <td>Summer</td>\n      <td>Tennis</td>\n      <td>Doubles, Men (Olympic)</td>\n      <td>Jean-François Blanchy</td>\n      <td>1</td>\n      <td>FRA</td>\n      <td>Jacques Brugnon</td>\n      <td>4.0</td>\n      <td>False</td>\n      <td>NaN</td>\n    </tr>\n  </tbody>\n</table>\n</div>"
     },
     "execution_count": 34,
     "metadata": {},
     "output_type": "execute_result"
    }
   ],
   "source": [
    "results_xlsx.head()"
   ],
   "metadata": {
    "collapsed": false,
    "ExecuteTime": {
     "end_time": "2025-07-28T18:32:40.094060300Z",
     "start_time": "2025-07-28T18:32:40.088601900Z"
    }
   },
   "id": "8ba106c9e046fa85",
   "execution_count": 34
  },
  {
   "cell_type": "code",
   "outputs": [],
   "source": [
    "# results_xlsx.to_parquet()"
   ],
   "metadata": {
    "collapsed": false,
    "ExecuteTime": {
     "end_time": "2025-07-28T18:32:40.095865Z",
     "start_time": "2025-07-28T18:32:40.094060300Z"
    }
   },
   "id": "e740fa4f700c047d",
   "execution_count": 35
  },
  {
   "cell_type": "code",
   "outputs": [
    {
     "data": {
      "text/plain": "          Day Coffee Type  Units Sold\n0      Monday    Espresso          25\n1      Monday       Latte          15\n2     Tuesday    Espresso          30\n3     Tuesday       Latte          20\n4   Wednesday    Espresso          35\n5   Wednesday       Latte          25\n6    Thursday    Espresso          40\n7    Thursday       Latte          30\n8      Friday    Espresso          45\n9      Friday       Latte          35\n10   Saturday    Espresso          45\n11   Saturday       Latte          35\n12     Sunday    Espresso          45\n13     Sunday       Latte          35",
      "text/html": "<div>\n<style scoped>\n    .dataframe tbody tr th:only-of-type {\n        vertical-align: middle;\n    }\n\n    .dataframe tbody tr th {\n        vertical-align: top;\n    }\n\n    .dataframe thead th {\n        text-align: right;\n    }\n</style>\n<table border=\"1\" class=\"dataframe\">\n  <thead>\n    <tr style=\"text-align: right;\">\n      <th></th>\n      <th>Day</th>\n      <th>Coffee Type</th>\n      <th>Units Sold</th>\n    </tr>\n  </thead>\n  <tbody>\n    <tr>\n      <th>0</th>\n      <td>Monday</td>\n      <td>Espresso</td>\n      <td>25</td>\n    </tr>\n    <tr>\n      <th>1</th>\n      <td>Monday</td>\n      <td>Latte</td>\n      <td>15</td>\n    </tr>\n    <tr>\n      <th>2</th>\n      <td>Tuesday</td>\n      <td>Espresso</td>\n      <td>30</td>\n    </tr>\n    <tr>\n      <th>3</th>\n      <td>Tuesday</td>\n      <td>Latte</td>\n      <td>20</td>\n    </tr>\n    <tr>\n      <th>4</th>\n      <td>Wednesday</td>\n      <td>Espresso</td>\n      <td>35</td>\n    </tr>\n    <tr>\n      <th>5</th>\n      <td>Wednesday</td>\n      <td>Latte</td>\n      <td>25</td>\n    </tr>\n    <tr>\n      <th>6</th>\n      <td>Thursday</td>\n      <td>Espresso</td>\n      <td>40</td>\n    </tr>\n    <tr>\n      <th>7</th>\n      <td>Thursday</td>\n      <td>Latte</td>\n      <td>30</td>\n    </tr>\n    <tr>\n      <th>8</th>\n      <td>Friday</td>\n      <td>Espresso</td>\n      <td>45</td>\n    </tr>\n    <tr>\n      <th>9</th>\n      <td>Friday</td>\n      <td>Latte</td>\n      <td>35</td>\n    </tr>\n    <tr>\n      <th>10</th>\n      <td>Saturday</td>\n      <td>Espresso</td>\n      <td>45</td>\n    </tr>\n    <tr>\n      <th>11</th>\n      <td>Saturday</td>\n      <td>Latte</td>\n      <td>35</td>\n    </tr>\n    <tr>\n      <th>12</th>\n      <td>Sunday</td>\n      <td>Espresso</td>\n      <td>45</td>\n    </tr>\n    <tr>\n      <th>13</th>\n      <td>Sunday</td>\n      <td>Latte</td>\n      <td>35</td>\n    </tr>\n  </tbody>\n</table>\n</div>"
     },
     "execution_count": 36,
     "metadata": {},
     "output_type": "execute_result"
    }
   ],
   "source": [
    "coffe"
   ],
   "metadata": {
    "collapsed": false,
    "ExecuteTime": {
     "end_time": "2025-07-28T18:32:40.101812800Z",
     "start_time": "2025-07-28T18:32:40.096869900Z"
    }
   },
   "id": "2b38b28bff7abc61",
   "execution_count": 36
  },
  {
   "cell_type": "code",
   "outputs": [],
   "source": [],
   "metadata": {
    "collapsed": false,
    "ExecuteTime": {
     "end_time": "2025-07-28T18:32:40.102446Z",
     "start_time": "2025-07-28T18:32:40.101940700Z"
    }
   },
   "id": "94d7ef24e8208b1a",
   "execution_count": 36
  }
 ],
 "metadata": {
  "kernelspec": {
   "display_name": "Python 3",
   "language": "python",
   "name": "python3"
  },
  "language_info": {
   "codemirror_mode": {
    "name": "ipython",
    "version": 2
   },
   "file_extension": ".py",
   "mimetype": "text/x-python",
   "name": "python",
   "nbconvert_exporter": "python",
   "pygments_lexer": "ipython2",
   "version": "2.7.6"
  }
 },
 "nbformat": 4,
 "nbformat_minor": 5
}
